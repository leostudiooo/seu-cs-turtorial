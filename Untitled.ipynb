{
 "cells": [
  {
   "cell_type": "code",
   "execution_count": 1,
   "id": "076f2c7a-75fb-4856-bf8d-1c6987c78253",
   "metadata": {},
   "outputs": [
    {
     "data": {
      "text/html": [
       "<div><pre style=\"&#102;&#111;&#110;&#116;&#45;&#102;&#97;&#109;&#105;&#108;&#121;&#58;&#32;&#34;&#67;&#111;&#117;&#114;&#105;&#101;&#114;&#32;&#78;&#101;&#119;&#34;&#44;&#67;&#111;&#117;&#114;&#105;&#101;&#114;&#44;&#109;&#111;&#110;&#111;&#115;&#112;&#97;&#99;&#101;&#59;\">&#56;&#46;&#51;&#49;&#52;</pre></div>"
      ],
      "text/plain": [
       "8.314"
      ]
     },
     "execution_count": 1,
     "metadata": {
      "text/html": [],
      "text/plain": []
     },
     "output_type": "execute_result"
    }
   ],
   "source": [
    "R = 8.314"
   ]
  },
  {
   "cell_type": "code",
   "execution_count": 4,
   "id": "a993c2a6-f5d5-4671-a871-7a150ec7d425",
   "metadata": {},
   "outputs": [],
   "source": [
    "deltaH[k1_,k2_,t1_,t2_] := (R Log[k1/k2])/(1/t1 - 1/t2) "
   ]
  },
  {
   "cell_type": "code",
   "execution_count": 9,
   "id": "e6d11226-5c94-41bc-acd6-df2ace5dfce6",
   "metadata": {
    "scrolled": true
   },
   "outputs": [
    {
     "data": {
      "text/html": [
       "<div><pre style=\"&#102;&#111;&#110;&#116;&#45;&#102;&#97;&#109;&#105;&#108;&#121;&#58;&#32;&#34;&#67;&#111;&#117;&#114;&#105;&#101;&#114;&#32;&#78;&#101;&#119;&#34;&#44;&#67;&#111;&#117;&#114;&#105;&#101;&#114;&#44;&#109;&#111;&#110;&#111;&#115;&#112;&#97;&#99;&#101;&#59;\">&#45;&#49;&#56;&#48;&#51;&#55;&#50;&#46;</pre></div>"
      ],
      "text/plain": [
       "-180372."
      ]
     },
     "execution_count": 9,
     "metadata": {
      "text/html": [],
      "text/plain": []
     },
     "output_type": "execute_result"
    }
   ],
   "source": [
    "deltaH[4.6,0.50,1040,940]"
   ]
  },
  {
   "cell_type": "code",
   "execution_count": null,
   "id": "2eac30c8-3039-42d1-a7c0-8631fd46c671",
   "metadata": {},
   "outputs": [],
   "source": []
  }
 ],
 "metadata": {
  "kernelspec": {
   "display_name": "Wolfram Language 13.3",
   "language": "Wolfram Language",
   "name": "wolframlanguage13.3"
  },
  "language_info": {
   "codemirror_mode": "mathematica",
   "file_extension": ".m",
   "mimetype": "application/vnd.wolfram.m",
   "name": "Wolfram Language",
   "pygments_lexer": "mathematica",
   "version": "12.0"
  }
 },
 "nbformat": 4,
 "nbformat_minor": 5
}
